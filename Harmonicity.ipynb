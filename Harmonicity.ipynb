{
 "cells": [
  {
   "cell_type": "code",
   "execution_count": null,
   "metadata": {},
   "outputs": [],
   "source": [
    "import numpy as np\n",
    "import matplotlib.pyplot as plt\n",
    "import IPython.display as ipd\n",
    "import pandas as pd\n",
    "from collections import OrderedDict"
   ]
  },
  {
   "cell_type": "markdown",
   "metadata": {},
   "source": [
    "# Part 1: Harmonicity\n",
    "\n",
    "We saw at the <a href = \"https://ursinus-cs472a-s2021.github.io/Modules/Module3/Video1\">third module</a> that a vibrating string supports different frequencies that are integer multiples of a base frequency, known as \"harmonics\" or \"overtones.\"  Let's look at a few examples of base frequencies and their harmonics.  We'll start with a base frequency of 220hz, and then we'll also look at a base frequency of 440z, which is known as its \"octave\" (the space in between these two frequencies is also referred to as an \"octave\").  We perceive these notes to be the same pitch, because we perceive pitch *logarithmically* in frequency.  In other words, *multiplying a sequence of frequencies by a constant amount will lead to a constant additive shift in our perception*.\n",
    "\n",
    "\n",
    "Finally, we'll look at frequencies at 330hz and 275hz, which are in 3/2 ratios and 5/4 ratios of 220hz, and which are known as *fifths* and *third*, respectively.  And we look at another frequency, 313, which forms a \"tri tone\" with respect to 220hz"
   ]
  },
  {
   "cell_type": "code",
   "execution_count": null,
   "metadata": {},
   "outputs": [],
   "source": [
    "def make_html_audio(ys, sr, width=100):\n",
    "    clips = []\n",
    "    for y in ys:\n",
    "        audio = ipd.Audio(y, rate=sr)\n",
    "        audio_html = audio._repr_html_().replace('\\n', '').strip()\n",
    "        audio_html = audio_html.replace('<audio ', '<audio style=\"width: {}px; \"'.format(width))\n",
    "        clips.append(audio_html)\n",
    "    return clips"
   ]
  },
  {
   "cell_type": "code",
   "execution_count": null,
   "metadata": {},
   "outputs": [],
   "source": [
    "sr = 44100\n",
    "t = np.linspace(0, 1, sr)\n",
    "pd.set_option('display.max_colwidth', None)  \n",
    "tuples = []\n",
    "summed = {}\n",
    "for f0 in [220, 440, 330, 275, 313]:\n",
    "    ys = []\n",
    "    fs = (f0*np.arange(1, 17)).tolist()\n",
    "    all_together = np.zeros_like(t)\n",
    "    for f in fs:\n",
    "        y = np.cos(2*np.pi*f*t)\n",
    "        ys.append(y)\n",
    "        all_together += y/f # Put in less of the high frequencies\n",
    "    ys = [all_together] + ys\n",
    "    fs = [\"All Together\"] + fs\n",
    "    summed[f0] = all_together\n",
    "    clips = make_html_audio(ys, sr, width=50)\n",
    "    tuples += [(\"{} hz Harmonics\".format(f0), fs), (\"{} hz sinusoids\".format(f0), clips)]\n",
    "df = pd.DataFrame(OrderedDict(tuples))\n",
    "ipd.HTML(df.to_html(escape=False, float_format='%.2f'))"
   ]
  },
  {
   "cell_type": "markdown",
   "metadata": {},
   "source": [
    "Now let's work to add some of these notes together and see how they work together\n"
   ]
  },
  {
   "cell_type": "code",
   "execution_count": null,
   "metadata": {},
   "outputs": [],
   "source": [
    "## TODO: Add together note and its octave, indexing the \"summed\" \n",
    "ipd.Audio(y, rate=sr)"
   ]
  },
  {
   "cell_type": "code",
   "execution_count": null,
   "metadata": {},
   "outputs": [],
   "source": [
    "## TODO: Add together 220hz, 275hz, and 330hz\n",
    "ipd.Audio(y, rate=sr)"
   ]
  },
  {
   "cell_type": "code",
   "execution_count": null,
   "metadata": {},
   "outputs": [],
   "source": [
    "## TODO: Add together 220hz and 313hz\n",
    "ipd.Audio(y, rate=sr)"
   ]
  },
  {
   "cell_type": "markdown",
   "metadata": {},
   "source": [
    "# Part 2: Circle of Fifths\n",
    "Now, you should construct 13 notes going in 3/2 intervals, starting at 440hz, but keep them in the interval between 440 and 880.  So if the frequency goes above 880, simply halve it to go an octave down.  This is known as the \"circle of fifths\""
   ]
  },
  {
   "cell_type": "code",
   "execution_count": null,
   "metadata": {},
   "outputs": [],
   "source": [
    "f = 440\n",
    "ys = []\n",
    "freqs = []\n",
    "for i in range(13):\n",
    "    ## TODO: Loop through and change f accordingly.\n",
    "    ## Then, add each f to freqs, and add a sinusoid at\n",
    "    ## that frequency to freqs\n",
    "    \n",
    "\n",
    "tuples = [(\"Frequencies\", freqs), (\"Sinusoids\", make_html_audio(ys, sr))]\n",
    "df = pd.DataFrame(OrderedDict(tuples))\n",
    "ipd.HTML(df.to_html(escape=False, float_format='%.2f'))"
   ]
  },
  {
   "cell_type": "markdown",
   "metadata": {},
   "source": [
    "# Part 3: Inconsistency of The Circle of Fifths"
   ]
  },
  {
   "cell_type": "markdown",
   "metadata": {},
   "source": [
    "The circle of fifths is supposed to cycle through the 12 unique notes in an octave.  But there is a discrepancy when we cycle all around, which is referred to as the <a href = \"https://en.wikipedia.org/wiki/Pythagorean_comma\">Pythagorean comma</a>. \n",
    "\n",
    "There's another issue that arises using these notes when we want to \"transpose\" a tune, or move it up or down by a constant amount of notes.  To see this, let's first sort the above notes so they are in frequency order."
   ]
  },
  {
   "cell_type": "code",
   "execution_count": null,
   "metadata": {},
   "outputs": [],
   "source": [
    "idx = np.argsort(np.array(freqs[0:-1]))\n",
    "freqs_sorted = np.array([freqs[i] for i in idx])\n",
    "ys_sorted = [ys[i] for i in idx]\n",
    "tuples = [(\"Frequencies\", freqs_sorted), (\"Sinusoids\", make_html_audio(ys_sorted, sr))]\n",
    "df = pd.DataFrame(OrderedDict(tuples))\n",
    "ipd.HTML(df.to_html(escape=False, float_format='%.2f'))"
   ]
  },
  {
   "cell_type": "markdown",
   "metadata": {},
   "source": [
    "Now let's construct the beginning of the happy birthday tune, starting at an A.  So putting together the sinusoids at index 0, 2, 0, 5, 4"
   ]
  },
  {
   "cell_type": "code",
   "execution_count": null,
   "metadata": {},
   "outputs": [],
   "source": [
    "## TODO: Construct the happy birthday tune into the numpy array \"y\"\n",
    "## using the notes 0, 2, 0, 5, 4, which you can access as those indices in ys_sorted\n",
    "ipd.Audio(y, rate=sr)"
   ]
  },
  {
   "cell_type": "markdown",
   "metadata": {},
   "source": [
    "If we want to go up by a note, then we can use indices 1, 3, 1, 6, 5"
   ]
  },
  {
   "cell_type": "code",
   "execution_count": null,
   "metadata": {},
   "outputs": [],
   "source": [
    "## TODO: Construct the happy birthday tune into the numpy array \"y\"\n",
    "## using the notes 1, 3, 1, 6, 5, which you can access as those indices in ys_sorted\n",
    "ipd.Audio(y, rate=sr)"
   ]
  },
  {
   "cell_type": "code",
   "execution_count": null,
   "metadata": {},
   "outputs": [],
   "source": [
    "## Look at the ratios\n",
    "freqs_sorted[[1, 3, 1, 6, 5]] / freqs_sorted[[0, 2, 0, 5, 4]]"
   ]
  },
  {
   "cell_type": "markdown",
   "metadata": {},
   "source": [
    "Let's now go back to the formula that we saw earlier for constructing notes on top of a base frequency.  This time, we'll use 440 as our base frequency to be consistent with the above example.  Let $p$ be how many halfsteps we are above the base frequency $f_0$. Then the formula is:\n",
    "\n",
    "## $ f = f_0*2^{\\frac{p}{12}} $"
   ]
  },
  {
   "cell_type": "markdown",
   "metadata": {},
   "source": [
    "Notice now that if we move up by a constant amount of $k$, then the ratio between the notes is a constant $2^{k/12}$.  So they really would be the same tune, because they are multiplied by a constant frequency for each note, and, as we said in the beginning, a constant multiple leads to a constant shift in our perception.  Let's follow this formula to compare the notes we constructed"
   ]
  },
  {
   "cell_type": "code",
   "execution_count": null,
   "metadata": {},
   "outputs": [],
   "source": [
    "freqs_formula = 440*(2**(np.arange(12)/12))\n",
    "ys_formula = [np.cos(2*np.pi*f*t) for f in freqs_formula]\n",
    "tuples = [(\"Our Frequencies\", freqs_sorted), (\"Our Sinusoids\", make_html_audio(ys_sorted, sr))]\n",
    "tuples += [(\"Formula Frequencies\", freqs_formula), (\"Formula Sinusoids\", make_html_audio(ys_formula, sr))]\n",
    "df = pd.DataFrame(OrderedDict(tuples))\n",
    "ipd.HTML(df.to_html(escape=False, float_format='%.2f'))"
   ]
  },
  {
   "cell_type": "code",
   "execution_count": null,
   "metadata": {},
   "outputs": [],
   "source": []
  }
 ],
 "metadata": {
  "kernelspec": {
   "display_name": "Python 3",
   "language": "python",
   "name": "python3"
  },
  "language_info": {
   "codemirror_mode": {
    "name": "ipython",
    "version": 3
   },
   "file_extension": ".py",
   "mimetype": "text/x-python",
   "name": "python",
   "nbconvert_exporter": "python",
   "pygments_lexer": "ipython3",
   "version": "3.7.6"
  }
 },
 "nbformat": 4,
 "nbformat_minor": 4
}
